{
 "cells": [
  {
   "cell_type": "code",
   "execution_count": 1,
   "id": "13a74edd-4fab-4a6c-80b8-f772f9e04601",
   "metadata": {},
   "outputs": [],
   "source": [
    "# Numpy is used for performing numerical operation. its saves space and provides efficient storage.\n",
    "# It is fast and takes less memory"
   ]
  },
  {
   "cell_type": "code",
   "execution_count": 2,
   "id": "e206cea2-780f-4bc8-baf2-cb4c77270e36",
   "metadata": {},
   "outputs": [],
   "source": [
    "# creating Array   np.array([])"
   ]
  },
  {
   "cell_type": "code",
   "execution_count": 3,
   "id": "29b4e721-2474-487f-824b-d31e05031b6e",
   "metadata": {},
   "outputs": [],
   "source": [
    "import numpy as np"
   ]
  },
  {
   "cell_type": "code",
   "execution_count": 4,
   "id": "9ea4ab13-2249-4f4e-bf71-cca7564d32e6",
   "metadata": {},
   "outputs": [
    {
     "name": "stdout",
     "output_type": "stream",
     "text": [
      "[1 2 3 4]\n"
     ]
    }
   ],
   "source": [
    "arr  = np.array([1,2,3,4])          # One dimensional\n",
    "print(arr)"
   ]
  },
  {
   "cell_type": "code",
   "execution_count": 5,
   "id": "15463339-d82f-40e7-893a-a460d9d738cf",
   "metadata": {},
   "outputs": [
    {
     "name": "stdout",
     "output_type": "stream",
     "text": [
      "[[1 2 3 4]\n",
      " [5 6 7 8]]\n"
     ]
    }
   ],
   "source": [
    "arr = np.array([[1,2,3,4], [5,6,7,8]])           # Two dimensional\n",
    "print(arr)"
   ]
  },
  {
   "cell_type": "code",
   "execution_count": 6,
   "id": "be7c9af8-12f5-4125-8201-e3f2d8c6b7ea",
   "metadata": {},
   "outputs": [
    {
     "name": "stdout",
     "output_type": "stream",
     "text": [
      "[[0. 0. 0. 0.]\n",
      " [0. 0. 0. 0.]\n",
      " [0. 0. 0. 0.]]\n"
     ]
    }
   ],
   "source": [
    "arr  = np.zeros((3,4))\n",
    "print(arr)"
   ]
  },
  {
   "cell_type": "code",
   "execution_count": 7,
   "id": "ea6559f3-b8c2-4723-b3d1-99fbea2cf490",
   "metadata": {},
   "outputs": [
    {
     "name": "stdout",
     "output_type": "stream",
     "text": [
      "[[1. 1. 1. 1.]\n",
      " [1. 1. 1. 1.]\n",
      " [1. 1. 1. 1.]]\n"
     ]
    }
   ],
   "source": [
    "arr = np.ones((3,4))\n",
    "print(arr)"
   ]
  },
  {
   "cell_type": "code",
   "execution_count": 8,
   "id": "80906919-8f08-42be-853d-e0bb09a75893",
   "metadata": {},
   "outputs": [
    {
     "name": "stdout",
     "output_type": "stream",
     "text": [
      "[[6.23042070e-307 4.67296746e-307 1.69121096e-306 1.06811422e-306]\n",
      " [6.23060744e-307 2.22522597e-306 1.33511969e-306 1.37962320e-306]\n",
      " [9.34604358e-307 9.79101082e-307 1.78020576e-306 1.69119873e-306]\n",
      " [2.22522868e-306 1.24611809e-306 8.06632139e-308 1.60221208e-306]]\n"
     ]
    }
   ],
   "source": [
    "arr = np.empty((4,4))\n",
    "print(arr)"
   ]
  },
  {
   "cell_type": "code",
   "execution_count": 9,
   "id": "06759848-deb4-4607-a719-74f56fb359ba",
   "metadata": {},
   "outputs": [
    {
     "name": "stdout",
     "output_type": "stream",
     "text": [
      "[1 3 5 7 9]\n"
     ]
    }
   ],
   "source": [
    "arr = np.arange(1,10,2)\n",
    "print(arr)\n"
   ]
  },
  {
   "cell_type": "code",
   "execution_count": 10,
   "id": "7be6c273-a767-46de-88f3-5cac0bb61841",
   "metadata": {},
   "outputs": [
    {
     "name": "stdout",
     "output_type": "stream",
     "text": [
      "[0.   0.25 0.5  0.75 1.  ]\n"
     ]
    }
   ],
   "source": [
    "arr = np.linspace(0,1,5)\n",
    "print(arr)"
   ]
  },
  {
   "cell_type": "code",
   "execution_count": 11,
   "id": "2490d59d-a246-46d0-bf06-8441e327a5bf",
   "metadata": {},
   "outputs": [
    {
     "name": "stdout",
     "output_type": "stream",
     "text": [
      "[[1 2 3]\n",
      " [4 5 6]\n",
      " [7 8 9]]\n",
      "(3, 3)\n"
     ]
    }
   ],
   "source": [
    "arr  = np.array([[1,2,3], [4,5,6],[7,8,9]])\n",
    "print(arr)\n",
    "print(arr.shape)"
   ]
  },
  {
   "cell_type": "code",
   "execution_count": 12,
   "id": "6a6cc7eb-31fb-44ca-8c68-e014b35c2863",
   "metadata": {},
   "outputs": [
    {
     "name": "stdout",
     "output_type": "stream",
     "text": [
      "2\n"
     ]
    }
   ],
   "source": [
    "print(arr.ndim)"
   ]
  },
  {
   "cell_type": "code",
   "execution_count": 13,
   "id": "d0efe882-f8af-4a10-bf5a-dd2b9fe4f988",
   "metadata": {},
   "outputs": [
    {
     "name": "stdout",
     "output_type": "stream",
     "text": [
      "9\n"
     ]
    }
   ],
   "source": [
    "print(arr.size)"
   ]
  },
  {
   "cell_type": "code",
   "execution_count": 14,
   "id": "4166403a-0ea1-4739-9de1-afbae9027062",
   "metadata": {},
   "outputs": [
    {
     "name": "stdout",
     "output_type": "stream",
     "text": [
      "int64\n"
     ]
    }
   ],
   "source": [
    "print(arr.dtype)"
   ]
  },
  {
   "cell_type": "code",
   "execution_count": 15,
   "id": "1d392c14-c69a-4a0e-97c0-4c502b93feb2",
   "metadata": {},
   "outputs": [
    {
     "name": "stdout",
     "output_type": "stream",
     "text": [
      "[['A' 'B' 'C']\n",
      " ['D' 'E' 'F']]\n"
     ]
    }
   ],
   "source": [
    "strarr  =  np.array([[\"A\", \"B\", \"C\"], [\"D\",\"E\",\"F\"]])\n",
    "print(strarr)"
   ]
  },
  {
   "cell_type": "code",
   "execution_count": 16,
   "id": "e1f264da-c310-4a45-89a9-bba711bc80eb",
   "metadata": {},
   "outputs": [
    {
     "name": "stdout",
     "output_type": "stream",
     "text": [
      "(2, 3)\n"
     ]
    }
   ],
   "source": [
    "print(strarr.shape)"
   ]
  },
  {
   "cell_type": "code",
   "execution_count": 17,
   "id": "2f7072f3-a8ed-4e8f-8d3e-590391294a91",
   "metadata": {},
   "outputs": [
    {
     "name": "stdout",
     "output_type": "stream",
     "text": [
      "<U1\n"
     ]
    }
   ],
   "source": [
    "print(strarr.dtype)"
   ]
  },
  {
   "cell_type": "code",
   "execution_count": 18,
   "id": "4ceffe6d-d4c1-489d-9b99-8c7dfe20dd45",
   "metadata": {},
   "outputs": [
    {
     "name": "stdout",
     "output_type": "stream",
     "text": [
      "[[1 2 3]\n",
      " [4 5 6]]\n",
      "====================\n",
      "[[ 2  4  6]\n",
      " [ 8 10 12]]\n"
     ]
    }
   ],
   "source": [
    "arr = np.array([[1,2,3], [4,5,6]])\n",
    "print(arr)\n",
    "print(\"====================\")\n",
    "x = arr * 2\n",
    "print(x)"
   ]
  },
  {
   "cell_type": "code",
   "execution_count": 19,
   "id": "6bb70755-998a-4e5b-900b-7ba5f94c65b3",
   "metadata": {},
   "outputs": [],
   "source": [
    "# 2. Array Indexing and Slicing in NumPy"
   ]
  },
  {
   "cell_type": "code",
   "execution_count": 20,
   "id": "18fa2445-ba82-442c-84a7-1564129ab695",
   "metadata": {},
   "outputs": [],
   "source": [
    "# indexing 1D array"
   ]
  },
  {
   "cell_type": "code",
   "execution_count": 21,
   "id": "3695ba59-c8e5-4676-9e7b-c1b238308d9a",
   "metadata": {},
   "outputs": [
    {
     "name": "stdout",
     "output_type": "stream",
     "text": [
      "10\n",
      "20\n",
      "30\n",
      "40\n"
     ]
    }
   ],
   "source": [
    "arr = np.array([10,20,30,40])\n",
    "print(arr[0])\n",
    "print(arr[1])\n",
    "print(arr[2])\n",
    "print(arr[3])"
   ]
  },
  {
   "cell_type": "code",
   "execution_count": 22,
   "id": "488174c2-a363-4a1f-80da-2a6f9b65b90a",
   "metadata": {},
   "outputs": [],
   "source": [
    "# indexing 2D array"
   ]
  },
  {
   "cell_type": "code",
   "execution_count": 23,
   "id": "12273c61-a7fe-4b32-9a2e-503d1a3ac68c",
   "metadata": {},
   "outputs": [
    {
     "name": "stdout",
     "output_type": "stream",
     "text": [
      "10\n",
      "20\n",
      "30\n",
      "50\n"
     ]
    }
   ],
   "source": [
    "arr = np.array([[10,20,30], [40,50,60]])\n",
    "print(arr[0,0])\n",
    "print(arr[0,1])\n",
    "print(arr[0,2])\n",
    "print(arr[1,1])"
   ]
  },
  {
   "cell_type": "code",
   "execution_count": 24,
   "id": "9aaee985-361a-403c-a0e3-c72dd7ac8e39",
   "metadata": {},
   "outputs": [],
   "source": [
    "#  Slicing in NumPy Arrays\n"
   ]
  },
  {
   "cell_type": "code",
   "execution_count": 25,
   "id": "16956f4e-a902-4809-8c3a-3e4fa462524e",
   "metadata": {},
   "outputs": [],
   "source": [
    "# slicing in 1D array"
   ]
  },
  {
   "cell_type": "code",
   "execution_count": 26,
   "id": "ba1be938-d89b-4918-b02f-7163030a519e",
   "metadata": {},
   "outputs": [
    {
     "name": "stdout",
     "output_type": "stream",
     "text": [
      "[10 20 30 40]\n",
      "[10 20]\n",
      "[]\n",
      "[10 20 30 40]\n",
      "[30]\n",
      "[10 20 30]\n",
      "40\n"
     ]
    }
   ],
   "source": [
    "arr = np.array([10,20,30,40])\n",
    "print(arr[0:])\n",
    "print(arr[0:2])\n",
    "print(arr[:0])\n",
    "print(arr[:])\n",
    "print(arr[2:3])\n",
    "print(arr[0:3])\n",
    "print(arr[-1])"
   ]
  },
  {
   "cell_type": "code",
   "execution_count": 27,
   "id": "24293a04-4f4c-460a-8d85-bab48ed2239f",
   "metadata": {},
   "outputs": [],
   "source": [
    "# slicing in 2D array"
   ]
  },
  {
   "cell_type": "code",
   "execution_count": 28,
   "id": "3b9206c7-fbc2-4991-828b-4452732337c2",
   "metadata": {},
   "outputs": [
    {
     "name": "stdout",
     "output_type": "stream",
     "text": [
      "[[10 20 30]\n",
      " [40 50 60]\n",
      " [70 80 90]]\n",
      "[]\n",
      "[70 80 90]\n",
      "[[40 50 60]]\n"
     ]
    }
   ],
   "source": [
    "arr = np.array([[10,20,30], [40,50,60], [70, 80, 90]])\n",
    "print(arr[:, :])\n",
    "print(arr[1:2, 2:1])\n",
    "print(arr[-1, :])\n",
    "print(arr[1:2, :])"
   ]
  },
  {
   "cell_type": "code",
   "execution_count": 29,
   "id": "3abb7625-c719-4d17-881a-66bf3cc31e86",
   "metadata": {},
   "outputs": [],
   "source": [
    "# Boolean Indexing"
   ]
  },
  {
   "cell_type": "code",
   "execution_count": 30,
   "id": "435dba91-7d41-44ad-a541-dd72c775b4a1",
   "metadata": {},
   "outputs": [],
   "source": [
    "# Boolean Indexing 1D Array"
   ]
  },
  {
   "cell_type": "code",
   "execution_count": 31,
   "id": "a07b4788-bcf8-46dd-8f18-a58648bcbbd8",
   "metadata": {},
   "outputs": [
    {
     "name": "stdout",
     "output_type": "stream",
     "text": [
      "[10 20 30]\n",
      "[30]\n",
      "[10]\n"
     ]
    }
   ],
   "source": [
    "arr = np.array([10,20,30])\n",
    "print(arr[arr > 5])\n",
    "print(arr[arr > 20])\n",
    "print(arr[arr < 11])"
   ]
  },
  {
   "cell_type": "code",
   "execution_count": 32,
   "id": "66582bfe-0d8c-4bc3-99a0-0cabf0a82b10",
   "metadata": {},
   "outputs": [],
   "source": [
    "# Boolean Indexing with 2D array"
   ]
  },
  {
   "cell_type": "code",
   "execution_count": 33,
   "id": "3d26d1b9-8d80-44d3-89fb-08758552edb2",
   "metadata": {},
   "outputs": [
    {
     "name": "stdout",
     "output_type": "stream",
     "text": [
      "[30 40 50 60 70 80 90]\n",
      "[10]\n",
      "[20 30 40 50 60 70 80 90]\n",
      "[10 20 30 40 50 60 70 80 90]\n"
     ]
    }
   ],
   "source": [
    "arr = np.array([[10,20,30], [40,50,60], [70,80,90]])\n",
    "print(arr[arr > 20])\n",
    "print(arr[arr == 10])\n",
    "print(arr[arr >= 20])\n",
    "print(arr[arr <= 90])"
   ]
  },
  {
   "cell_type": "code",
   "execution_count": 34,
   "id": "b3fa5737-2bbd-4b29-ac8b-4ae89c9f39d5",
   "metadata": {},
   "outputs": [],
   "source": [
    "# Fancy Indexing"
   ]
  },
  {
   "cell_type": "code",
   "execution_count": 35,
   "id": "da8b3d0f-6d89-4489-873c-1b83d4de3f16",
   "metadata": {},
   "outputs": [
    {
     "name": "stdout",
     "output_type": "stream",
     "text": [
      "[20 10 30]\n",
      "[50 30 40]\n"
     ]
    }
   ],
   "source": [
    "arr = np.array([10,20,30,40,50])\n",
    "inx1 = [1,0,2]\n",
    "inx2 = [-1,2,3]\n",
    "print(arr[inx1])\n",
    "print(arr[inx2])\n",
    "\n"
   ]
  },
  {
   "cell_type": "code",
   "execution_count": 36,
   "id": "de57e7a9-6a10-4c7c-9352-0b366bd98ae1",
   "metadata": {},
   "outputs": [],
   "source": [
    "# Modifying Array Elements"
   ]
  },
  {
   "cell_type": "code",
   "execution_count": 37,
   "id": "085356ed-a0f3-4d1b-a0ec-81f70a6a5d07",
   "metadata": {},
   "outputs": [
    {
     "name": "stdout",
     "output_type": "stream",
     "text": [
      "Before Modification\n",
      "[100 200 300 400]\n",
      "Afrer Modification\n",
      "[700 200 300 400]\n"
     ]
    }
   ],
   "source": [
    "arr = np.array([100,200,300,400])\n",
    "print(\"Before Modification\")\n",
    "print(arr)\n",
    "print(\"Afrer Modification\")\n",
    "arr[0] = 700\n",
    "print(arr)"
   ]
  },
  {
   "cell_type": "code",
   "execution_count": 38,
   "id": "8faf5d5a-3731-4248-9eb8-e00fb845a4bd",
   "metadata": {},
   "outputs": [
    {
     "name": "stdout",
     "output_type": "stream",
     "text": [
      "Before Mofication\n",
      "[['A' 'B' 'C']\n",
      " ['D' 'E' 'F']]\n",
      "After Modification\n",
      "[['A' 'X' 'C']\n",
      " ['Y' 'E' 'F']]\n"
     ]
    }
   ],
   "source": [
    "arr = np.array([[\"A\", \"B\", \"C\"], [\"D\", \"E\", \"F\"]])\n",
    "print(\"Before Mofication\")\n",
    "print(arr)\n",
    "print(\"After Modification\")\n",
    "arr[0,1] = \"X\"\n",
    "arr[1,0] = \"Y\"\n",
    "print(arr)"
   ]
  },
  {
   "cell_type": "code",
   "execution_count": 39,
   "id": "44520779-b265-4410-b410-30f5283779f9",
   "metadata": {},
   "outputs": [
    {
     "name": "stdin",
     "output_type": "stream",
     "text": [
      "Enter the index no for rows (0 or 1) 0\n",
      "Enter the index no for cols (0 or 1 ) 0\n",
      "Enter the data you want to modify 900\n"
     ]
    },
    {
     "name": "stdout",
     "output_type": "stream",
     "text": [
      "[[900  20  30]\n",
      " [ 40  50  60]\n",
      " [ 70  80  90]]\n"
     ]
    }
   ],
   "source": [
    "arr = np.array([[10,20,30], [40,50,60], [70,80,90]])\n",
    "\n",
    "\n",
    "rows = int(input(\"Enter the index no for rows (0 or 1)\"))\n",
    "cols = int(input(\"Enter the index no for cols (0 or 1 )\"))\n",
    "data = int(input(\"Enter the data you want to modify\"))\n",
    "\n",
    "arr[rows,cols] = data\n",
    "\n",
    "print(arr)"
   ]
  },
  {
   "cell_type": "code",
   "execution_count": 43,
   "id": "05329e91-a9f6-4e15-86a2-f55374ee5e50",
   "metadata": {},
   "outputs": [],
   "source": [
    "# modifying array using slice"
   ]
  },
  {
   "cell_type": "code",
   "execution_count": 44,
   "id": "5892564c-d818-4dc2-8ef9-fe2b7f41c31f",
   "metadata": {},
   "outputs": [
    {
     "name": "stdout",
     "output_type": "stream",
     "text": [
      "[10 20 50 60]\n"
     ]
    }
   ],
   "source": [
    "arr = np.array([10,20,30,40])\n",
    "arr[2:] = [50,60]\n",
    "print(arr)"
   ]
  },
  {
   "cell_type": "code",
   "execution_count": 45,
   "id": "2a13a65a-4847-4fa7-99e2-36bf09d83ec4",
   "metadata": {},
   "outputs": [
    {
     "name": "stdout",
     "output_type": "stream",
     "text": [
      "[[ 10 500  30]\n",
      " [ 40 600  60]]\n"
     ]
    }
   ],
   "source": [
    "arr = np.array([[10,20,30], [40,50,60]])\n",
    "arr[0: , 1] = [500,600]\n",
    "print(arr)"
   ]
  },
  {
   "cell_type": "code",
   "execution_count": 47,
   "id": "f5eaddb9-58bd-4478-9520-af04fef95814",
   "metadata": {},
   "outputs": [],
   "source": [
    "# Array Operations"
   ]
  },
  {
   "cell_type": "code",
   "execution_count": 48,
   "id": "6000a183-c88e-40a9-98cc-1af41393ac31",
   "metadata": {},
   "outputs": [],
   "source": [
    "# Element Wise Operations"
   ]
  },
  {
   "cell_type": "code",
   "execution_count": 52,
   "id": "7853f497-0d02-4dd5-9294-5a08d62f39c8",
   "metadata": {},
   "outputs": [],
   "source": [
    "import numpy as np\n"
   ]
  },
  {
   "cell_type": "code",
   "execution_count": 54,
   "id": "8236c350-d2ad-4e01-a718-a69cddb91437",
   "metadata": {},
   "outputs": [
    {
     "name": "stdout",
     "output_type": "stream",
     "text": [
      "[[5 7 9]]\n",
      "======================\n",
      "[[-3 -3 -3]]\n",
      "======================\n",
      "[[ 4 10 18]]\n"
     ]
    }
   ],
   "source": [
    "arr1 = np.array([[1,2,3]])\n",
    "arr2 = np.array([[4,5,6]])\n",
    "\n",
    "print(arr1 + arr2)\n",
    "print(\"======================\")\n",
    "print(arr1 - arr2 )\n",
    "print(\"======================\")\n",
    "print(arr1 * arr2)"
   ]
  },
  {
   "cell_type": "code",
   "execution_count": 55,
   "id": "ecb32735-0add-448a-87c5-bfbc4cb48c25",
   "metadata": {},
   "outputs": [
    {
     "name": "stdout",
     "output_type": "stream",
     "text": [
      "[[ 4  4  7 10]\n",
      " [ 6  8 11 14]]\n",
      "======================\n",
      "[[-2  0 -1 -2]\n",
      " [ 4  4  3  2]]\n",
      "======================\n",
      "[[ 3  4 12 24]\n",
      " [ 5 12 28 48]]\n"
     ]
    }
   ],
   "source": [
    "arr3 = np.array([[1,2,3,4], [5,6,7,8]])\n",
    "arr4 = np.array([[3,2,4,6], [1,2,4,6]])\n",
    "\n",
    "print( arr3 + arr4)\n",
    "print(\"======================\")\n",
    "print(arr3 - arr4)\n",
    "print(\"======================\")\n",
    "print(arr3 * arr4)"
   ]
  },
  {
   "cell_type": "code",
   "execution_count": 56,
   "id": "158f3065-ce0e-47d7-a249-a68608a85214",
   "metadata": {},
   "outputs": [],
   "source": [
    "# Broadcasting"
   ]
  },
  {
   "cell_type": "code",
   "execution_count": 62,
   "id": "1d0b0892-7e98-451c-8291-ae6d4b66b970",
   "metadata": {},
   "outputs": [
    {
     "name": "stdout",
     "output_type": "stream",
     "text": [
      "[6 7 8 9]\n"
     ]
    }
   ],
   "source": [
    "arr2 = np.array([1,2,3,4])\n",
    "x = arr2+ 5\n",
    "print(x)\n"
   ]
  },
  {
   "cell_type": "code",
   "execution_count": 63,
   "id": "91391327-fc18-4450-91ec-5d8fa07fe456",
   "metadata": {},
   "outputs": [
    {
     "name": "stdout",
     "output_type": "stream",
     "text": [
      "[[ 2  4  6  8]\n",
      " [ 6  8 10 12]]\n"
     ]
    }
   ],
   "source": [
    "arr = np.array([[1,2,3,4], [5,6,7,8]])\n",
    "x = arr + arr2\n",
    "print(x)"
   ]
  },
  {
   "cell_type": "code",
   "execution_count": 64,
   "id": "634d0bee-efb1-4801-895c-f26a4304b244",
   "metadata": {},
   "outputs": [],
   "source": [
    "# Universal Functions\n",
    "# np.sqrt(), np.log(), np.exp()"
   ]
  },
  {
   "cell_type": "code",
   "execution_count": 68,
   "id": "351012fc-da93-46a6-8ac7-04a568e91106",
   "metadata": {},
   "outputs": [
    {
     "name": "stdout",
     "output_type": "stream",
     "text": [
      "[2. 4. 6. 5.]\n",
      "[5.45981500e+01 8.88611052e+06 4.31123155e+15 7.20048993e+10]\n"
     ]
    }
   ],
   "source": [
    "arr = np.array([4,16,36,25])\n",
    "\n",
    "print(np.sqrt(arr))\n",
    "print(np.exp(arr))"
   ]
  },
  {
   "cell_type": "code",
   "execution_count": 69,
   "id": "202e6907-5101-40b3-8785-cc30effa12fc",
   "metadata": {},
   "outputs": [],
   "source": [
    "# Aggregate Functions\n"
   ]
  },
  {
   "cell_type": "code",
   "execution_count": 74,
   "id": "56ab8c23-5308-4ff8-a0a0-3a3b1e67ae39",
   "metadata": {},
   "outputs": [
    {
     "name": "stdout",
     "output_type": "stream",
     "text": [
      "10\n",
      "2.5\n",
      "1.118033988749895\n",
      "1\n",
      "4\n",
      "2.5\n"
     ]
    }
   ],
   "source": [
    "arr = np.array([1,2,3,4])\n",
    "\n",
    "print(arr.sum())\n",
    "print(arr.mean())\n",
    "print(arr.std())\n",
    "print(arr.min())\n",
    "print(arr.max())\n",
    "print(np.median(arr))"
   ]
  },
  {
   "cell_type": "code",
   "execution_count": 75,
   "id": "847c3b39-6143-4a9d-83d5-913e19659aa0",
   "metadata": {},
   "outputs": [],
   "source": [
    "# Reshaping and Resizing "
   ]
  },
  {
   "cell_type": "code",
   "execution_count": 76,
   "id": "f8c520e1-7163-42b3-81ba-4a4d608539dc",
   "metadata": {},
   "outputs": [],
   "source": [
    "# Reshaping and resizing arrays are essential in data science for transforming data\n",
    "# into the desired format for computation or visualization.\n",
    "# NumPy provides powerful tools to handle this efficiently. "
   ]
  },
  {
   "cell_type": "code",
   "execution_count": 77,
   "id": "cbbd18f2-e31b-4d39-a8e3-39bb2461283d",
   "metadata": {},
   "outputs": [],
   "source": [
    "# reshape()"
   ]
  },
  {
   "cell_type": "code",
   "execution_count": 78,
   "id": "6c07c437-f477-4cd3-b141-4b43f386d47f",
   "metadata": {},
   "outputs": [],
   "source": [
    "import numpy as np"
   ]
  },
  {
   "cell_type": "code",
   "execution_count": 80,
   "id": "78d19e4a-227b-44f6-a23d-b160a77edfb0",
   "metadata": {},
   "outputs": [
    {
     "data": {
      "text/plain": [
       "array([[1, 2, 3],\n",
       "       [4, 5, 6]])"
      ]
     },
     "execution_count": 80,
     "metadata": {},
     "output_type": "execute_result"
    }
   ],
   "source": [
    "arr = np.array([1,2,3,4,5,6])\n",
    "\n",
    "arr.reshape(2,3)        # 3 rows and 3 cols"
   ]
  },
  {
   "cell_type": "code",
   "execution_count": 85,
   "id": "3102d56d-a165-40a2-8a2f-cca20c0e52db",
   "metadata": {},
   "outputs": [
    {
     "data": {
      "text/plain": [
       "array([[1, 2],\n",
       "       [3, 4],\n",
       "       [5, 6]])"
      ]
     },
     "execution_count": 85,
     "metadata": {},
     "output_type": "execute_result"
    }
   ],
   "source": [
    "arr.reshape(3,2)"
   ]
  },
  {
   "cell_type": "code",
   "execution_count": 86,
   "id": "8bada4f8-fa29-40d9-93d9-454733311a13",
   "metadata": {},
   "outputs": [],
   "source": [
    "# Flattening Arrays\n",
    "# ravel()   flatten()"
   ]
  },
  {
   "cell_type": "code",
   "execution_count": 95,
   "id": "5ba75f04-0090-46cd-a6cf-0d60876dd3c0",
   "metadata": {},
   "outputs": [
    {
     "name": "stdout",
     "output_type": "stream",
     "text": [
      "['1' '2' '3' '4' '5' '6' 'A' 'B' 'C']\n"
     ]
    }
   ],
   "source": [
    "arr = np.array([[1,2,3], [4,5,6], [\"A\",\"B\",\"C\"]])\n",
    "print(arr.ravel())                                 # shows data of array in one view\n"
   ]
  },
  {
   "cell_type": "code",
   "execution_count": 96,
   "id": "b90ce00c-59fb-4c5c-b174-d35fd079b681",
   "metadata": {},
   "outputs": [
    {
     "name": "stdout",
     "output_type": "stream",
     "text": [
      "['1' '2' '3' '4' '5' '6' 'A' 'B' 'C']\n"
     ]
    }
   ],
   "source": [
    "print(arr.flatten())            # Returns a copy of the array."
   ]
  },
  {
   "cell_type": "code",
   "execution_count": 97,
   "id": "dad9ceb1-591e-4a3b-beca-ec912c3adc4c",
   "metadata": {},
   "outputs": [],
   "source": [
    "# Transposing Array"
   ]
  },
  {
   "cell_type": "code",
   "execution_count": 100,
   "id": "aecd78e0-4144-4ffc-8215-8a418766a115",
   "metadata": {},
   "outputs": [
    {
     "name": "stdout",
     "output_type": "stream",
     "text": [
      "[[1 4]\n",
      " [2 5]\n",
      " [3 6]]\n"
     ]
    }
   ],
   "source": [
    "arr = np.array([[1,2,3], [4,5,6]])\n",
    "print(arr.T)"
   ]
  },
  {
   "cell_type": "code",
   "execution_count": 101,
   "id": "0392b438-ff3f-4598-9700-71e98db77ce7",
   "metadata": {},
   "outputs": [],
   "source": [
    "# resizing"
   ]
  },
  {
   "cell_type": "code",
   "execution_count": 103,
   "id": "320b5626-4842-4062-bbc8-40bdba284039",
   "metadata": {},
   "outputs": [
    {
     "name": "stdout",
     "output_type": "stream",
     "text": [
      "None\n"
     ]
    }
   ],
   "source": [
    "arr = np.array([[1,2,3, 4,5,6]])\n",
    "print(arr.resize(3,3))"
   ]
  },
  {
   "cell_type": "code",
   "execution_count": 104,
   "id": "3694b614-fac6-4e8e-a767-250d60e7673e",
   "metadata": {},
   "outputs": [],
   "source": [
    "# Matrices"
   ]
  },
  {
   "cell_type": "code",
   "execution_count": 1,
   "id": "927e3eaa-d738-4a40-a03b-fba141c53644",
   "metadata": {},
   "outputs": [],
   "source": [
    "# Matrix are always 2D and has multiple mathematical operations        np.matrix()\n",
    "# Arrays can be 1D 2D 3D or more                                       np.array()"
   ]
  },
  {
   "cell_type": "code",
   "execution_count": 3,
   "id": "ffb0796e-c9c6-4008-8bf0-f94251a3fcf2",
   "metadata": {},
   "outputs": [],
   "source": [
    "import numpy as np"
   ]
  },
  {
   "cell_type": "code",
   "execution_count": 8,
   "id": "6e893d4f-5110-4afc-a858-0588b6de48cc",
   "metadata": {},
   "outputs": [
    {
     "data": {
      "text/plain": [
       "matrix([[1, 2, 3],\n",
       "        [4, 5, 6]])"
      ]
     },
     "execution_count": 8,
     "metadata": {},
     "output_type": "execute_result"
    }
   ],
   "source": [
    "mat = np.matrix([[1,2,3], [4,5,6]])\n",
    "mat\n"
   ]
  },
  {
   "cell_type": "code",
   "execution_count": 9,
   "id": "0a21c772-d32c-4860-b510-3d12d2163fb6",
   "metadata": {},
   "outputs": [],
   "source": [
    "# Matrix multiplication "
   ]
  },
  {
   "cell_type": "code",
   "execution_count": 12,
   "id": "376fbf28-f8c0-4a2c-b826-a29c57e6edea",
   "metadata": {},
   "outputs": [],
   "source": [
    "# we can multiply matrix using 3 attributes\n",
    "# .dot\n",
    "# @\n",
    "# matmul()"
   ]
  },
  {
   "cell_type": "code",
   "execution_count": 16,
   "id": "03ddc6d3-559b-4b0c-b64c-43e61512cbf6",
   "metadata": {},
   "outputs": [
    {
     "data": {
      "text/plain": [
       "array([[ 58,  64],\n",
       "       [139, 154]])"
      ]
     },
     "execution_count": 16,
     "metadata": {},
     "output_type": "execute_result"
    }
   ],
   "source": [
    "\n",
    "mat1 = np.array([[1, 2, 3], [4, 5, 6]])  # Shape: (2, 3)\n",
    "mat2 = np.array([[7, 8], [9, 10], [11, 12]])  # Shape: (3, 2)           # no of cols in mat1 should be = to no of rows in mat2\n",
    "np.dot(mat1, mat2)"
   ]
  },
  {
   "cell_type": "code",
   "execution_count": 18,
   "id": "26ed4934-0da8-4d21-ba8e-0aaae1b52a48",
   "metadata": {},
   "outputs": [
    {
     "name": "stdout",
     "output_type": "stream",
     "text": [
      "[[ 58  64]\n",
      " [139 154]]\n"
     ]
    }
   ],
   "source": [
    "x = mat1 @ mat2\n",
    "print(x)"
   ]
  },
  {
   "cell_type": "code",
   "execution_count": 19,
   "id": "2d66be73-514a-4d68-9e30-7eb976be6a81",
   "metadata": {},
   "outputs": [
    {
     "data": {
      "text/plain": [
       "array([[ 58,  64],\n",
       "       [139, 154]])"
      ]
     },
     "execution_count": 19,
     "metadata": {},
     "output_type": "execute_result"
    }
   ],
   "source": [
    "np.matmul(mat1,mat2)"
   ]
  },
  {
   "cell_type": "code",
   "execution_count": null,
   "id": "86eaf6d4-5963-4346-b15f-f44bda78794d",
   "metadata": {},
   "outputs": [],
   "source": [
    "# Determinants"
   ]
  },
  {
   "cell_type": "code",
   "execution_count": 23,
   "id": "d3614dc2-675a-4776-9cf1-351af8574eb1",
   "metadata": {},
   "outputs": [
    {
     "name": "stdout",
     "output_type": "stream",
     "text": [
      "-2.0000000000000004\n"
     ]
    }
   ],
   "source": [
    "\n",
    "mat = np.array([[1, 2], [3, 4]])  # A square matrix (2x2)         det = (a*d) - ( b * c)\n",
    "det = np.linalg.det(mat)                    \n",
    "print(det)"
   ]
  },
  {
   "cell_type": "code",
   "execution_count": 24,
   "id": "6b8c6fe8-ebcf-4dd5-b995-2f418a8f7fca",
   "metadata": {},
   "outputs": [],
   "source": [
    "# Inverse"
   ]
  },
  {
   "cell_type": "code",
   "execution_count": 25,
   "id": "b01e9f6a-1b5d-420e-8996-1c7c1d772a89",
   "metadata": {},
   "outputs": [
    {
     "data": {
      "text/plain": [
       "array([[-2. ,  1. ],\n",
       "       [ 1.5, -0.5]])"
      ]
     },
     "execution_count": 25,
     "metadata": {},
     "output_type": "execute_result"
    }
   ],
   "source": [
    "np.linalg.inv(mat)"
   ]
  },
  {
   "cell_type": "code",
   "execution_count": 26,
   "id": "61c70ce9-6620-4a1c-9045-0abcad0f23f3",
   "metadata": {},
   "outputs": [],
   "source": [
    "# Eigenvalues and Eigenvectors             used to analyze square matrices\n",
    "# EigenValues - represents scalar factors\n",
    "# EigenVectors - indicates the directions along with matrices"
   ]
  },
  {
   "cell_type": "code",
   "execution_count": 28,
   "id": "d21001d4-135f-4181-8ce3-3009b2152c0e",
   "metadata": {},
   "outputs": [],
   "source": [
    "# np.linalg.eig"
   ]
  },
  {
   "cell_type": "code",
   "execution_count": 36,
   "id": "eeea2206-c843-481b-81d0-6e37278885ad",
   "metadata": {},
   "outputs": [
    {
     "name": "stdout",
     "output_type": "stream",
     "text": [
      "EigenValues [-0.23606798  4.23606798]\n",
      "EigenVectors [[-0.85065081 -0.52573111]\n",
      " [ 0.52573111 -0.85065081]]\n"
     ]
    }
   ],
   "source": [
    "mat = np.array([[1,2], [2,3]])\n",
    "eigvalues, eigvectors =  np.linalg.eig(mat)\n",
    "print(\"EigenValues\", eigvalues)\n",
    "print(\"EigenVectors\", eigvectors)"
   ]
  },
  {
   "cell_type": "code",
   "execution_count": 38,
   "id": "53afeb65-f33e-4a60-83b7-5850f477ae2e",
   "metadata": {},
   "outputs": [],
   "source": [
    "# Solving Linear Systems of Equations\n",
    "# np.linalg.solve()"
   ]
  },
  {
   "cell_type": "code",
   "execution_count": 41,
   "id": "822970d6-cd6f-4f50-802c-6e29f20585e3",
   "metadata": {},
   "outputs": [
    {
     "name": "stdout",
     "output_type": "stream",
     "text": [
      "[-5.   5.5]\n"
     ]
    }
   ],
   "source": [
    "mat1 = np.array([[1,2], [3,4]])             # coefficient     1x + 2y = 6 , 3x + 4y = 7\n",
    "mat2 = np.array([6,7])                       # constant\n",
    "x = np.linalg.solve(mat1,mat2)\n",
    "print(x)"
   ]
  },
  {
   "cell_type": "code",
   "execution_count": 42,
   "id": "e499ddba-40a9-4962-84fa-d3788e9f8490",
   "metadata": {},
   "outputs": [],
   "source": [
    "# SVD - Singular Value Decomposition"
   ]
  },
  {
   "cell_type": "code",
   "execution_count": 51,
   "id": "5c8745ca-7391-45e4-acb2-f92b7bb290f4",
   "metadata": {},
   "outputs": [],
   "source": [
    "#SVD decomposes a matrix into three components:\n",
    "# A= UΣV ^ t   \n",
    "# U = left singular vectors\n",
    "# Σ = singular values\n",
    "# V ^ t = Right singular vectors   "
   ]
  },
  {
   "cell_type": "code",
   "execution_count": null,
   "id": "974146e1-456f-4907-8edd-afc0ac81d299",
   "metadata": {},
   "outputs": [],
   "source": [
    "# SVD is used for \n",
    "# Dimensionality reduction in machine learning.\n",
    "# Image compression and noise reduction."
   ]
  },
  {
   "cell_type": "code",
   "execution_count": 50,
   "id": "74199289-e97b-4ffe-8461-39704fd7f47e",
   "metadata": {},
   "outputs": [
    {
     "name": "stdout",
     "output_type": "stream",
     "text": [
      "U: \n",
      " [[-0.2298477   0.88346102  0.40824829]\n",
      " [-0.52474482  0.24078249 -0.81649658]\n",
      " [-0.81964194 -0.40189603  0.40824829]]\n",
      "Σ: \n",
      " [9.52551809 0.51430058]\n",
      "V: \n",
      " [[-0.61962948 -0.78489445]\n",
      " [-0.78489445  0.61962948]]\n"
     ]
    }
   ],
   "source": [
    "mat = np.array([[1,2], [3,4], [5,6]])\n",
    "U,S,V = np.linalg.svd(mat)\n",
    "print(\"U: \\n\", U)\n",
    "\n",
    "print(\"Σ: \\n\", S)\n",
    "\n",
    "print(\"V: \\n\", V)"
   ]
  },
  {
   "cell_type": "code",
   "execution_count": 1,
   "id": "7ed04d32-f118-4b40-9944-98839ef11cd2",
   "metadata": {},
   "outputs": [],
   "source": [
    "# Working with missing or invalid data\n"
   ]
  },
  {
   "cell_type": "code",
   "execution_count": 2,
   "id": "6da67fe9-0e89-4a86-b180-b96b17aef396",
   "metadata": {},
   "outputs": [],
   "source": [
    "# We handle missing values in data using np.nan"
   ]
  },
  {
   "cell_type": "code",
   "execution_count": 3,
   "id": "d4735282-354d-4144-85bf-bb4ddce594e9",
   "metadata": {},
   "outputs": [],
   "source": [
    "import numpy as np"
   ]
  },
  {
   "cell_type": "code",
   "execution_count": 6,
   "id": "c8ce6988-9d0b-40fd-9aa1-d260e5685193",
   "metadata": {},
   "outputs": [
    {
     "name": "stdout",
     "output_type": "stream",
     "text": [
      "[ 1.  2. nan  4.  5.]\n"
     ]
    }
   ],
   "source": [
    "arr = np.array([1,2,np.nan,4,5])\n",
    "print(arr)"
   ]
  },
  {
   "cell_type": "code",
   "execution_count": 8,
   "id": "81e1fc61-d7a1-44ba-9b56-b9fbccc4ee91",
   "metadata": {},
   "outputs": [],
   "source": [
    "import pandas as pd\n",
    "import numpy as np\n"
   ]
  },
  {
   "cell_type": "code",
   "execution_count": 12,
   "id": "4ceef537-e2ad-4a5f-bad5-9b69a2da87fb",
   "metadata": {},
   "outputs": [
    {
     "data": {
      "text/html": [
       "<div>\n",
       "<style scoped>\n",
       "    .dataframe tbody tr th:only-of-type {\n",
       "        vertical-align: middle;\n",
       "    }\n",
       "\n",
       "    .dataframe tbody tr th {\n",
       "        vertical-align: top;\n",
       "    }\n",
       "\n",
       "    .dataframe thead th {\n",
       "        text-align: right;\n",
       "    }\n",
       "</style>\n",
       "<table border=\"1\" class=\"dataframe\">\n",
       "  <thead>\n",
       "    <tr style=\"text-align: right;\">\n",
       "      <th></th>\n",
       "      <th>Name</th>\n",
       "      <th>Age</th>\n",
       "    </tr>\n",
       "  </thead>\n",
       "  <tbody>\n",
       "    <tr>\n",
       "      <th>0</th>\n",
       "      <td>Atharv</td>\n",
       "      <td>21.0</td>\n",
       "    </tr>\n",
       "    <tr>\n",
       "      <th>1</th>\n",
       "      <td>Sanju</td>\n",
       "      <td>NaN</td>\n",
       "    </tr>\n",
       "    <tr>\n",
       "      <th>2</th>\n",
       "      <td>Abdul</td>\n",
       "      <td>41.0</td>\n",
       "    </tr>\n",
       "    <tr>\n",
       "      <th>3</th>\n",
       "      <td>NaN</td>\n",
       "      <td>35.0</td>\n",
       "    </tr>\n",
       "  </tbody>\n",
       "</table>\n",
       "</div>"
      ],
      "text/plain": [
       "     Name   Age\n",
       "0  Atharv  21.0\n",
       "1   Sanju   NaN\n",
       "2   Abdul  41.0\n",
       "3     NaN  35.0"
      ]
     },
     "execution_count": 12,
     "metadata": {},
     "output_type": "execute_result"
    }
   ],
   "source": [
    "data = {\n",
    "    \"Name\": [\"Atharv\", \"Sanju\", \"Abdul\", np.nan],\n",
    "    \"Age\": [21,np.nan, 41,35]\n",
    "}\n",
    "\n",
    "\n",
    "df = pd.DataFrame(data)\n",
    "df"
   ]
  },
  {
   "cell_type": "code",
   "execution_count": 19,
   "id": "d887dddc-cee7-494c-8c32-19aa56a3b298",
   "metadata": {},
   "outputs": [
    {
     "name": "stdout",
     "output_type": "stream",
     "text": [
      "[False False  True False False]\n"
     ]
    }
   ],
   "source": [
    "print(np.isnan(arr))"
   ]
  },
  {
   "cell_type": "code",
   "execution_count": 20,
   "id": "e51292b0-eb7e-426d-96a0-e86ee68b43f4",
   "metadata": {},
   "outputs": [],
   "source": [
    "# Ignoring missing values"
   ]
  },
  {
   "cell_type": "code",
   "execution_count": 24,
   "id": "496f6467-4cc1-476b-93a8-18f9fc70927e",
   "metadata": {},
   "outputs": [
    {
     "data": {
      "text/plain": [
       "np.float64(4.75)"
      ]
     },
     "execution_count": 24,
     "metadata": {},
     "output_type": "execute_result"
    }
   ],
   "source": [
    "arr = np.array([1,2,np.nan, 7, 9, np.nan])\n",
    "\n",
    "\n",
    "np.nanmean(arr)         # this will ignore all the nan values"
   ]
  },
  {
   "cell_type": "code",
   "execution_count": 25,
   "id": "0f93f5a6-b45e-4b40-a092-7f00d60b0e65",
   "metadata": {},
   "outputs": [
    {
     "data": {
      "text/plain": [
       "np.float64(4.5)"
      ]
     },
     "execution_count": 25,
     "metadata": {},
     "output_type": "execute_result"
    }
   ],
   "source": [
    "np.nanmedian(arr)     # this will ignore all the nan values to calculate median"
   ]
  },
  {
   "cell_type": "code",
   "execution_count": 26,
   "id": "ca2257b2-c138-45d7-bf87-9fd11a2b7d15",
   "metadata": {},
   "outputs": [
    {
     "data": {
      "text/plain": [
       "np.float64(3.344772040064913)"
      ]
     },
     "execution_count": 26,
     "metadata": {},
     "output_type": "execute_result"
    }
   ],
   "source": [
    "np.nanstd(arr)"
   ]
  },
  {
   "cell_type": "code",
   "execution_count": 28,
   "id": "de81e39a-99b3-4d4d-9e5a-d547c13c88e8",
   "metadata": {},
   "outputs": [
    {
     "data": {
      "text/plain": [
       "np.float64(1.0)"
      ]
     },
     "execution_count": 28,
     "metadata": {},
     "output_type": "execute_result"
    }
   ],
   "source": [
    "np.nanmin(arr)"
   ]
  },
  {
   "cell_type": "code",
   "execution_count": 29,
   "id": "075953e0-7364-4c18-8be4-625b5f6c64ee",
   "metadata": {},
   "outputs": [
    {
     "data": {
      "text/plain": [
       "np.float64(9.0)"
      ]
     },
     "execution_count": 29,
     "metadata": {},
     "output_type": "execute_result"
    }
   ],
   "source": [
    "np.nanmax(arr)"
   ]
  },
  {
   "cell_type": "code",
   "execution_count": 31,
   "id": "0e5cbbf6-b14d-4e2e-b901-6cba654c23c0",
   "metadata": {},
   "outputs": [],
   "source": [
    "# Replcaing missing values"
   ]
  },
  {
   "cell_type": "code",
   "execution_count": 34,
   "id": "aca7f1bd-ab37-43bc-8d95-333b97e995a7",
   "metadata": {},
   "outputs": [
    {
     "name": "stdout",
     "output_type": "stream",
     "text": [
      "['1.0' '2.0' '-' '7.0' '-' '90.0' '78.0' '-']\n"
     ]
    }
   ],
   "source": [
    "arr = np.array([1,2,np.nan, 7,np.nan, 90, 78, np.nan])\n",
    "print(np.where(np.isnan(arr), \"-\", arr))"
   ]
  },
  {
   "cell_type": "code",
   "execution_count": 37,
   "id": "f06a6f6f-e0b5-477f-9ab6-6c3478199de8",
   "metadata": {},
   "outputs": [
    {
     "data": {
      "text/html": [
       "<div>\n",
       "<style scoped>\n",
       "    .dataframe tbody tr th:only-of-type {\n",
       "        vertical-align: middle;\n",
       "    }\n",
       "\n",
       "    .dataframe tbody tr th {\n",
       "        vertical-align: top;\n",
       "    }\n",
       "\n",
       "    .dataframe thead th {\n",
       "        text-align: right;\n",
       "    }\n",
       "</style>\n",
       "<table border=\"1\" class=\"dataframe\">\n",
       "  <thead>\n",
       "    <tr style=\"text-align: right;\">\n",
       "      <th></th>\n",
       "      <th>Name</th>\n",
       "      <th>Age</th>\n",
       "      <th>Marks</th>\n",
       "    </tr>\n",
       "  </thead>\n",
       "  <tbody>\n",
       "    <tr>\n",
       "      <th>0</th>\n",
       "      <td>NaN</td>\n",
       "      <td>12.0</td>\n",
       "      <td>89</td>\n",
       "    </tr>\n",
       "    <tr>\n",
       "      <th>1</th>\n",
       "      <td>Akash</td>\n",
       "      <td>43.0</td>\n",
       "      <td>90</td>\n",
       "    </tr>\n",
       "    <tr>\n",
       "      <th>2</th>\n",
       "      <td>Abdul</td>\n",
       "      <td>45.0</td>\n",
       "      <td>56</td>\n",
       "    </tr>\n",
       "    <tr>\n",
       "      <th>3</th>\n",
       "      <td>David</td>\n",
       "      <td>NaN</td>\n",
       "      <td>78</td>\n",
       "    </tr>\n",
       "    <tr>\n",
       "      <th>4</th>\n",
       "      <td>NaN</td>\n",
       "      <td>78.0</td>\n",
       "      <td>98</td>\n",
       "    </tr>\n",
       "    <tr>\n",
       "      <th>5</th>\n",
       "      <td>NaN</td>\n",
       "      <td>NaN</td>\n",
       "      <td>99</td>\n",
       "    </tr>\n",
       "  </tbody>\n",
       "</table>\n",
       "</div>"
      ],
      "text/plain": [
       "    Name   Age  Marks\n",
       "0    NaN  12.0     89\n",
       "1  Akash  43.0     90\n",
       "2  Abdul  45.0     56\n",
       "3  David   NaN     78\n",
       "4    NaN  78.0     98\n",
       "5    NaN   NaN     99"
      ]
     },
     "execution_count": 37,
     "metadata": {},
     "output_type": "execute_result"
    }
   ],
   "source": [
    "import pandas as pd\n",
    "import numpy as np\n",
    "\n",
    "data = {\n",
    "     \"Name\": [np.nan, \"Akash\", \"Abdul\", \"David\", np.nan, np.nan],\n",
    "    \"Age\": [12,43,45,np.nan,78,np.nan],\n",
    "    \"Marks\": [89,90,56,78,98,99]\n",
    "}\n",
    "\n",
    "df = pd.DataFrame(data)\n",
    "df"
   ]
  },
  {
   "cell_type": "code",
   "execution_count": 43,
   "id": "8be94a51-0d03-4697-9f41-71eab5ac2785",
   "metadata": {},
   "outputs": [
    {
     "data": {
      "text/html": [
       "<div>\n",
       "<style scoped>\n",
       "    .dataframe tbody tr th:only-of-type {\n",
       "        vertical-align: middle;\n",
       "    }\n",
       "\n",
       "    .dataframe tbody tr th {\n",
       "        vertical-align: top;\n",
       "    }\n",
       "\n",
       "    .dataframe thead th {\n",
       "        text-align: right;\n",
       "    }\n",
       "</style>\n",
       "<table border=\"1\" class=\"dataframe\">\n",
       "  <thead>\n",
       "    <tr style=\"text-align: right;\">\n",
       "      <th></th>\n",
       "      <th>Name</th>\n",
       "      <th>Age</th>\n",
       "      <th>Marks</th>\n",
       "    </tr>\n",
       "  </thead>\n",
       "  <tbody>\n",
       "    <tr>\n",
       "      <th>0</th>\n",
       "      <td>-</td>\n",
       "      <td>12.0</td>\n",
       "      <td>89</td>\n",
       "    </tr>\n",
       "    <tr>\n",
       "      <th>1</th>\n",
       "      <td>Akash</td>\n",
       "      <td>43.0</td>\n",
       "      <td>90</td>\n",
       "    </tr>\n",
       "    <tr>\n",
       "      <th>2</th>\n",
       "      <td>Abdul</td>\n",
       "      <td>45.0</td>\n",
       "      <td>56</td>\n",
       "    </tr>\n",
       "    <tr>\n",
       "      <th>3</th>\n",
       "      <td>David</td>\n",
       "      <td>44.5</td>\n",
       "      <td>78</td>\n",
       "    </tr>\n",
       "    <tr>\n",
       "      <th>4</th>\n",
       "      <td>-</td>\n",
       "      <td>78.0</td>\n",
       "      <td>98</td>\n",
       "    </tr>\n",
       "    <tr>\n",
       "      <th>5</th>\n",
       "      <td>-</td>\n",
       "      <td>44.5</td>\n",
       "      <td>99</td>\n",
       "    </tr>\n",
       "  </tbody>\n",
       "</table>\n",
       "</div>"
      ],
      "text/plain": [
       "    Name   Age  Marks\n",
       "0      -  12.0     89\n",
       "1  Akash  43.0     90\n",
       "2  Abdul  45.0     56\n",
       "3  David  44.5     78\n",
       "4      -  78.0     98\n",
       "5      -  44.5     99"
      ]
     },
     "execution_count": 43,
     "metadata": {},
     "output_type": "execute_result"
    }
   ],
   "source": [
    "df.fillna({\n",
    "    \"Name\": \"-\",\n",
    "    \"Age\": df[\"Age\"].mean()\n",
    "})"
   ]
  },
  {
   "cell_type": "code",
   "execution_count": 44,
   "id": "ff1cb2b8-cd26-4d07-8279-7e4230e40e67",
   "metadata": {},
   "outputs": [],
   "source": [
    "# Note - to handel missing values in Array we use (np.where(np.isnan(arr), \"-\", arr)\n",
    "# to handle missing values in DataFrame we use .fillna()"
   ]
  },
  {
   "cell_type": "code",
   "execution_count": 45,
   "id": "5fc9e702-0203-406f-8753-612e624a4bff",
   "metadata": {},
   "outputs": [],
   "source": [
    "# Removing missing values from datasets"
   ]
  },
  {
   "cell_type": "code",
   "execution_count": 47,
   "id": "a7f49f54-df59-4597-af05-91ec35222e98",
   "metadata": {},
   "outputs": [
    {
     "data": {
      "text/plain": [
       "array([1., 2., 3., 5.])"
      ]
     },
     "execution_count": 47,
     "metadata": {},
     "output_type": "execute_result"
    }
   ],
   "source": [
    "arr = np.array([1,2,3, np.nan, 5, np.nan])\n",
    "arr[~np.isnan(arr)]"
   ]
  },
  {
   "cell_type": "code",
   "execution_count": 56,
   "id": "551a15c5-127e-4bfd-8e8f-05b0c4b53273",
   "metadata": {},
   "outputs": [
    {
     "name": "stdout",
     "output_type": "stream",
     "text": [
      "------------------------------\n",
      "[['-' '2.0' '-' '4.0']\n",
      " ['5.0' '6.0' '-' '8.0']]\n",
      "-------------------------------\n",
      "-------------------------------\n",
      "5.0\n"
     ]
    }
   ],
   "source": [
    "arr = np.array([[np.nan,2,np.nan,4], [5,6,np.nan,8]])\n",
    "\n",
    "arr[~np.isnan(arr)]                  # removing nan values\n",
    "print(\"------------------------------\")\n",
    "print(np.where(np.isnan(arr), \"-\", arr)) # replacing nan values\n",
    "print(\"-------------------------------\")\n",
    "print(\"-------------------------------\")\n",
    "print(np.nanmean(arr))                  # ignored all the nan values and gave the means\n"
   ]
  },
  {
   "cell_type": "code",
   "execution_count": 54,
   "id": "e1b13f72-b8f7-4633-8513-5412883ba8fb",
   "metadata": {},
   "outputs": [],
   "source": [
    "# Detecting Outliers"
   ]
  },
  {
   "cell_type": "code",
   "execution_count": 57,
   "id": "8b797820-38cd-452a-81ea-1644c4c3d724",
   "metadata": {},
   "outputs": [],
   "source": [
    "# What is Outliers \n",
    "#Outliers are data points that significantly differ from the other observations in a dataset. \n",
    "#These values are unusually high or low compared to the rest \n",
    "#of the data and can potentially distort the statistical analysis and models."
   ]
  },
  {
   "cell_type": "code",
   "execution_count": 58,
   "id": "5b53f7cf-5c63-4df0-8513-3d1206230732",
   "metadata": {},
   "outputs": [],
   "source": [
    "# Two methods to detect Outliers\n",
    "# 1] Visual Methods - Box plots,scatter plots, histograms\n",
    "# 2] Statistical Plots - Z score , IQR"
   ]
  },
  {
   "cell_type": "code",
   "execution_count": 2,
   "id": "83dc09bd-6577-4744-b1dd-26b4dda9b606",
   "metadata": {},
   "outputs": [
    {
     "data": {
      "image/png": "[encoded data removed]",
      "text/plain": [
       "<Figure size 640x480 with 1 Axes>"
      ]
     },
     "metadata": {},
     "output_type": "display_data"
    },
    {
     "name": "stdout",
     "output_type": "stream",
     "text": [
      "Outliers using Z-score:\n",
      "   Age    zscore\n",
      "8  250  3.651594\n",
      "\n",
      "Outliers using IQR:\n",
      "   Age    zscore\n",
      "8  250  3.651594\n"
     ]
    }
   ],
   "source": [
    "import numpy as np\n",
    "import pandas as pd\n",
    "import matplotlib.pyplot as plt\n",
    "\n",
    "# Example data\n",
    "data = {'Age': [23, 25, 22, 25, 22, 30, 35, 38, 250, 45, 50, 48, 60, 23, 19]}\n",
    "df = pd.DataFrame(data)\n",
    "\n",
    "# Visualizing data using a boxplot\n",
    "plt.boxplot(df['Age'])\n",
    "plt.title(\"Boxplot of Age\")\n",
    "plt.show()\n",
    "\n",
    "# Z-Score Method\n",
    "from scipy.stats import zscore\n",
    "df['zscore'] = zscore(df['Age'])\n",
    "outliers_zscore = df[df['zscore'].abs() > 2]\n",
    "print(\"Outliers using Z-score:\")\n",
    "print(outliers_zscore)\n",
    "\n",
    "# IQR Method\n",
    "Q1 = df['Age'].quantile(0.25)\n",
    "Q3 = df['Age'].quantile(0.75)\n",
    "IQR = Q3 - Q1\n",
    "\n",
    "lower_bound = Q1 - 1.5 * IQR\n",
    "upper_bound = Q3 + 1.5 * IQR\n",
    "\n",
    "outliers_iqr = df[(df['Age'] < lower_bound) | (df['Age'] > upper_bound)]\n",
    "print(\"\\nOutliers using IQR:\")\n",
    "print(outliers_iqr)\n"
   ]
  },
  {
   "cell_type": "code",
   "execution_count": 3,
   "id": "784ca2ff-06d1-46fd-af80-8a5c4522c554",
   "metadata": {},
   "outputs": [],
   "source": [
    "# Random Numbers and Sampling in NumPy"
   ]
  },
  {
   "cell_type": "code",
   "execution_count": 4,
   "id": "1d576365-a435-40de-8f5e-e54846d3bc6c",
   "metadata": {},
   "outputs": [],
   "source": [
    "import numpy as np"
   ]
  },
  {
   "cell_type": "code",
   "execution_count": 12,
   "id": "ea6bff74-63cd-4a98-8fcd-1c33cb61bf98",
   "metadata": {},
   "outputs": [
    {
     "name": "stdout",
     "output_type": "stream",
     "text": [
      "[0.90754166]\n"
     ]
    }
   ],
   "source": [
    "x = np.random.rand(1)\n",
    "print(x)"
   ]
  },
  {
   "cell_type": "code",
   "execution_count": 13,
   "id": "739157ee-37a8-4523-be2a-f745dfa91fea",
   "metadata": {},
   "outputs": [
    {
     "name": "stdout",
     "output_type": "stream",
     "text": [
      "[[0.33078521 0.83057515 0.1469258 ]\n",
      " [0.23680385 0.72354797 0.65991323]]\n"
     ]
    }
   ],
   "source": [
    "x = np.random.rand(2,3)                # 2 rows and 3 cols\n",
    "print(x)"
   ]
  },
  {
   "cell_type": "code",
   "execution_count": 14,
   "id": "2bb50bf7-bd78-4580-b917-ed428edb70ca",
   "metadata": {},
   "outputs": [
    {
     "name": "stdout",
     "output_type": "stream",
     "text": [
      "[ 0.35315187  0.19909798 -0.53126595  0.0172747   0.51950473]\n"
     ]
    }
   ],
   "source": [
    "x = np.random.randn(5)     #randn means generates random number from normal distribution\n",
    "print(x)"
   ]
  },
  {
   "cell_type": "code",
   "execution_count": 31,
   "id": "07d7df95-3eca-4e6a-9e69-b724ecfa301d",
   "metadata": {},
   "outputs": [
    {
     "name": "stdout",
     "output_type": "stream",
     "text": [
      "3050\n"
     ]
    }
   ],
   "source": [
    "x = np.random.randint(4)               # randint(low. high. size)\n",
    "print(x)"
   ]
  },
  {
   "cell_type": "code",
   "execution_count": 37,
   "id": "187a6e75-e886-4432-aac8-4eade7ecd4b5",
   "metadata": {},
   "outputs": [
    {
     "name": "stdout",
     "output_type": "stream",
     "text": [
      "4\n"
     ]
    }
   ],
   "source": [
    "x = np.random.randint(4,10)        # will give output between 4 and 10 only\n",
    "print(x)"
   ]
  },
  {
   "cell_type": "code",
   "execution_count": 39,
   "id": "334138c5-2d3a-4bf2-991e-4d1d7cd23b92",
   "metadata": {},
   "outputs": [
    {
     "name": "stdout",
     "output_type": "stream",
     "text": [
      "[6 5 5 8 6]\n"
     ]
    }
   ],
   "source": [
    "x = np.random.randint(4,10,size = 5)        # size of random numbers\n",
    "print(x)"
   ]
  },
  {
   "cell_type": "code",
   "execution_count": 40,
   "id": "27b0e4a0-8a10-4b7d-98f2-f2e0765bad50",
   "metadata": {},
   "outputs": [
    {
     "name": "stdout",
     "output_type": "stream",
     "text": [
      "[[8 8 6]\n",
      " [8 7 7]]\n"
     ]
    }
   ],
   "source": [
    "x = np.random.randint(4,10, size = (2,3))        # with 2 x 3 matrix\n",
    "print(x)"
   ]
  },
  {
   "cell_type": "code",
   "execution_count": 51,
   "id": "a8075891-e162-43d3-87dd-81677299c0e1",
   "metadata": {},
   "outputs": [
    {
     "name": "stdout",
     "output_type": "stream",
     "text": [
      "Random numbers with seed: [0.37454012 0.95071431 0.73199394 0.59865848 0.15601864]\n"
     ]
    }
   ],
   "source": [
    "np.random.seed(42)            # no specific reason for 42. just a numbers\n",
    "\n",
    "rand_nums = np.random.rand(5)\n",
    "print(\"Random numbers with seed:\", rand_nums)"
   ]
  },
  {
   "cell_type": "code",
   "execution_count": 52,
   "id": "e53ccc96-4e4a-4097-bf5d-00b2ae9678be",
   "metadata": {},
   "outputs": [],
   "source": [
    "# Random Sampling    - taking out random data from the given datasets"
   ]
  },
  {
   "cell_type": "code",
   "execution_count": 60,
   "id": "666a2cbf-a6bc-48bc-918e-dce96104418f",
   "metadata": {},
   "outputs": [
    {
     "name": "stdout",
     "output_type": "stream",
     "text": [
      "[4 6]\n"
     ]
    }
   ],
   "source": [
    "arr = np.array([1,2,3,4,5,6])\n",
    "\n",
    "print(np.random.choice(arr, size = 2, replace = True))"
   ]
  },
  {
   "cell_type": "code",
   "execution_count": 68,
   "id": "26d48cab-85c5-449f-9241-22681ace3534",
   "metadata": {},
   "outputs": [
    {
     "name": "stdout",
     "output_type": "stream",
     "text": [
      "[4 3 2 0 1]\n"
     ]
    }
   ],
   "source": [
    "print(np.random.permutation(5))"
   ]
  },
  {
   "cell_type": "code",
   "execution_count": 74,
   "id": "1934a0a3-e656-4136-9632-02d0173dae91",
   "metadata": {},
   "outputs": [
    {
     "name": "stdout",
     "output_type": "stream",
     "text": [
      "[4 3 4 1 2 2]\n"
     ]
    }
   ],
   "source": [
    "arr = np.array([1,4,2,3,4,2])\n",
    "np.random.shuffle(arr)\n",
    "print(arr)"
   ]
  },
  {
   "cell_type": "code",
   "execution_count": 75,
   "id": "cb6e6d05-7ef7-4368-9068-aa39a0ea9333",
   "metadata": {},
   "outputs": [],
   "source": [
    "# Advanced Array Multiplication"
   ]
  },
  {
   "cell_type": "code",
   "execution_count": null,
   "id": "d769e640-912e-4a06-9bcc-e5849a786feb",
   "metadata": {},
   "outputs": [],
   "source": [
    "# Stacking"
   ]
  },
  {
   "cell_type": "code",
   "execution_count": 78,
   "id": "a813c565-7e30-4580-8207-6f2b1101bcdd",
   "metadata": {},
   "outputs": [],
   "source": [
    "import numpy as np"
   ]
  },
  {
   "cell_type": "code",
   "execution_count": 83,
   "id": "f6d0c99f-5389-4fc4-888b-15f6c287e26f",
   "metadata": {},
   "outputs": [
    {
     "name": "stdout",
     "output_type": "stream",
     "text": [
      "[[ 1  2  3]\n",
      " [ 4  5  6]\n",
      " [ 7  8  9]\n",
      " [10 11 12]]\n",
      "======================================================\n",
      "[[ 1  2  3  7  8  9]\n",
      " [ 4  5  6 10 11 12]]\n"
     ]
    }
   ],
   "source": [
    "arr1 = np.array([[1,2,3], [4,5,6]])\n",
    "arr2 = np.array([[7,8,9], [10,11,12]])\n",
    "\n",
    "print(np.vstack((arr1 , arr2)))               # vertical stack\n",
    "print(\"======================================================\")\n",
    "print(np.hstack((arr1, arr2)))               # horizontal stack"
   ]
  },
  {
   "cell_type": "code",
   "execution_count": 84,
   "id": "f58f05f5-834c-40a2-979e-5d8fc679229e",
   "metadata": {},
   "outputs": [],
   "source": [
    "# Splitting"
   ]
  },
  {
   "cell_type": "code",
   "execution_count": 91,
   "id": "45ffd437-037b-4351-84c6-5cfc9d26a59c",
   "metadata": {},
   "outputs": [
    {
     "name": "stdout",
     "output_type": "stream",
     "text": [
      "[array([1, 2]), array([3, 4])]\n",
      "[array([1, 2]), array([3]), array([4])]\n"
     ]
    }
   ],
   "source": [
    "arr = np.array([1,2,3,4])\n",
    "print(np.split(arr, 2))              # Equal Splits\n",
    "print(np.array_split(arr,3))         # Unequal Splits"
   ]
  },
  {
   "cell_type": "code",
   "execution_count": 92,
   "id": "094c3669-eb27-499d-8ec7-9840849e181c",
   "metadata": {},
   "outputs": [],
   "source": [
    "# Tile and Repeat"
   ]
  },
  {
   "cell_type": "code",
   "execution_count": 98,
   "id": "e13723da-928f-4486-add5-995caa3dc233",
   "metadata": {},
   "outputs": [
    {
     "name": "stdout",
     "output_type": "stream",
     "text": [
      "[ 1  2  3 10  1  2  3 10]\n",
      "[ 1  1  1  2  2  2  3  3  3 10 10 10]\n"
     ]
    }
   ],
   "source": [
    "arr = np.array([1,2,3,10])\n",
    "\n",
    "print(np.tile(arr, 2))           \n",
    "print(np.repeat(arr, 3))"
   ]
  },
  {
   "cell_type": "code",
   "execution_count": 99,
   "id": "98125a42-6b85-4f08-b5c9-91397f3e8e59",
   "metadata": {},
   "outputs": [],
   "source": [
    "# Saving and Loading Data"
   ]
  },
  {
   "cell_type": "code",
   "execution_count": null,
   "id": "a212f137-0748-4e80-8b44-1d407d3919ed",
   "metadata": {},
   "outputs": [],
   "source": [
    "# Saving arrays"
   ]
  },
  {
   "cell_type": "code",
   "execution_count": null,
   "id": "da2490e5-a6fb-456b-b317-7eff1fdfce55",
   "metadata": {},
   "outputs": [],
   "source": [
    "arr = np.array([1,2,3,4])\n",
    "\n",
    "np.save('array_data.npy' , arr)"
   ]
  },
  {
   "cell_type": "code",
   "execution_count": 112,
   "id": "36035187-f565-4d62-829d-080a6dc9e9c1",
   "metadata": {},
   "outputs": [],
   "source": [
    "arr1 = np.array([[1,2,3], [4,5,6]])\n",
    "arr2 = np.array([[10,9,8], [7,6,5]])\n",
    "\n",
    "np.savez(\"multiple_array_data.npz\", array1=arr1, array2=arr2)"
   ]
  },
  {
   "cell_type": "code",
   "execution_count": 113,
   "id": "21b7537e-eb4d-44a5-8c60-02bd0bec77d8",
   "metadata": {},
   "outputs": [],
   "source": [
    "# Loading arrays"
   ]
  },
  {
   "cell_type": "code",
   "execution_count": 114,
   "id": "20a5449e-879e-484b-b35a-10e5ac1a3c2a",
   "metadata": {},
   "outputs": [
    {
     "name": "stdout",
     "output_type": "stream",
     "text": [
      "Loaded Array: [1 2 3 4 5]\n"
     ]
    }
   ],
   "source": [
    "# Load a single array\n",
    "arr = np.load('array_data.npy')\n",
    "print(\"Loaded Array:\", arr)\n",
    "\n"
   ]
  },
  {
   "cell_type": "code",
   "execution_count": 115,
   "id": "195649c1-4222-43cb-bcee-de982d335747",
   "metadata": {},
   "outputs": [],
   "source": [
    "# Load a miltple array "
   ]
  },
  {
   "cell_type": "code",
   "execution_count": 118,
   "id": "9e619833-0b96-42f7-855f-f06783750e62",
   "metadata": {},
   "outputs": [
    {
     "name": "stdout",
     "output_type": "stream",
     "text": [
      "[[1 2 3]\n",
      " [4 5 6]]\n",
      "[[10  9  8]\n",
      " [ 7  6  5]]\n"
     ]
    }
   ],
   "source": [
    "arr = np.load('multiple_array_data.npz')\n",
    "print(arr['array1'])\n",
    "print(arr['array2'])"
   ]
  },
  {
   "cell_type": "code",
   "execution_count": 119,
   "id": "3fab76ee-390e-485c-8861-6d9b7fbf53fc",
   "metadata": {},
   "outputs": [],
   "source": [
    "# Reading adn Writing Text Files"
   ]
  },
  {
   "cell_type": "code",
   "execution_count": 121,
   "id": "e5e4ee5b-b938-4122-bb5b-42531daa0f8c",
   "metadata": {},
   "outputs": [],
   "source": [
    "arr = np.array([[1, 2, 3], [4, 5, 6]])\n",
    "\n",
    "# Save the array to a text file\n",
    "np.savetxt('array_data.txt', arr)"
   ]
  },
  {
   "cell_type": "code",
   "execution_count": 124,
   "id": "6b092846-03fc-4560-87cd-861507bf4dca",
   "metadata": {},
   "outputs": [
    {
     "name": "stdout",
     "output_type": "stream",
     "text": [
      "[[1. 2. 3.]\n",
      " [4. 5. 6.]]\n"
     ]
    }
   ],
   "source": [
    "print(np.loadtxt(\"array_data.txt\"))"
   ]
  },
  {
   "cell_type": "code",
   "execution_count": null,
   "id": "3ea4fd43-7a7d-4378-be79-bcddc9ae6762",
   "metadata": {},
   "outputs": [],
   "source": [
    "# Perfromance and Optimization"
   ]
  }
 ],
 "metadata": {
  "kernelspec": {
   "display_name": "Python 3 (ipykernel)",
   "language": "python",
   "name": "python3"
  },
  "language_info": {
   "codemirror_mode": {
    "name": "ipython",
    "version": 3
   },
   "file_extension": ".py",
   "mimetype": "text/x-python",
   "name": "python",
   "nbconvert_exporter": "python",
   "pygments_lexer": "ipython3",
   "version": "3.13.1"
  }
 },
 "nbformat": 4,
 "nbformat_minor": 5
}
